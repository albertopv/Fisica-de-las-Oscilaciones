{
  "nbformat": 4,
  "nbformat_minor": 0,
  "metadata": {
    "colab": {
      "provenance": [],
      "authorship_tag": "ABX9TyO3F/ampFAJnhYGxw8dkEV+",
      "include_colab_link": true
    },
    "kernelspec": {
      "name": "python3",
      "display_name": "Python 3"
    },
    "language_info": {
      "name": "python"
    }
  },
  "cells": [
    {
      "cell_type": "markdown",
      "metadata": {
        "id": "view-in-github",
        "colab_type": "text"
      },
      "source": [
        "<a href=\"https://colab.research.google.com/github/albertopv/Fisica-de-las-Oscilaciones/blob/main/oscilacion_armonica_simple.ipynb\" target=\"_parent\"><img src=\"https://colab.research.google.com/assets/colab-badge.svg\" alt=\"Open In Colab\"/></a>"
      ]
    },
    {
      "cell_type": "markdown",
      "source": [
        "# **OSCILACIONES ARMONICAS EN EL TIEMPO CON PYTHON**\n",
        "\n",
        "Creado por: **Profe. Patiño**\n",
        "\n",
        "**Objetivos:**\n",
        "\n",
        " * Manipular los parámetros (Amplitud, frecuencia, fase inicial) de una oscilación armónica y observar los cambios en su grafica.\n",
        " * A partir de la grafica de una oscilación armónica obtener los parámetros que la caracterizan.\n",
        "\n",
        "\n",
        "---\n",
        "\n"
      ],
      "metadata": {
        "id": "hQe7megdsZK7"
      }
    },
    {
      "cell_type": "markdown",
      "source": [
        "**Oscilación Armónica usando coseno**\n",
        "\n",
        "Una oscilación armónica de una variable física **$x$** a medida que transcurre el tiempo **$t$**, puede describirse matemáticamente por cualquiera de las siguientes expresiones:\n",
        "\n",
        "$x(t)=A\\cos{(\\frac{2\\pi}{T} t+\\phi_1)}$;$\\quad$ (1)\n",
        "\n",
        "$x(t)=A\\cos{(2\\pi f t+\\phi_1)}$; $\\quad$ (2)\n",
        "\n",
        "$x(t)=A\\cos{(\\omega t+\\phi_1)}$; $\\quad$ (3)\n",
        "\n",
        "donde,\n",
        "\n",
        "$A:$ es la amplitud (maximo valor que toma $x$).\n",
        "\n",
        "$T:$ es el periodo (tiempo en que la variable $x$ realiza una oscilación completa).\n",
        "\n",
        "$\\phi_1:$ es la fase inicial (o angulo de fase), el cual determina el corrimiento temporal de la gráfica.\n",
        "\n",
        "$f=\\frac{1}{T}:$ es la frecuencia (número de oscilaciones que realiza  $x$ en un segundo ).\n",
        "\n",
        "$\\omega = \\frac{2\\pi}{T} = 2\\pi f : $ es la frecuencia angular (en analogía con un movimiento circular uniforme con la misma frecuencia, es el número de oscilaciones que realiza la variable $x$ cuando el movimiento circular realiza una vuelta completa).\n",
        "\n",
        "**Oscilación Armónica usando seno**\n",
        "\n",
        "Aprovechando la identidad $\\cos(\\theta)=\\sin(\\theta+\\pi/2)$, tambien la oscilación puede describirse con una función seno, así:\n",
        "\n",
        "$x(t)=A\\sin(\\frac{2\\pi}{T} t+\\phi_2)$\n",
        "\n",
        "De tal forma que:\n",
        "\n",
        "$\\phi_2 = \\phi_1+\\pi/2$\n",
        "\n",
        "Es decir:\n",
        "\n",
        "\n",
        "$x(t)=A\\cos{(\\frac{2\\pi}{T} t+\\phi_1)} = A\\sin{(\\frac{2\\pi}{T} t+\\phi_1 + \\pi/2)}$; $\\quad$ (4)\n",
        "\n",
        "**NOTA:**\n",
        "\n",
        "  * Cuando la variable $x$ inicia con su valor maximo ($x=A$ en $t=0$),$\\phi_1=0$ y $\\phi_2=\\pi/2$ . Luego:   \n",
        "  \n",
        "      $x(t)=A\\cos{(\\frac{2\\pi}{T} t)} = A\\sin{(\\frac{2\\pi}{T} t + \\pi/2)}$\n",
        "\n",
        "  * Cuando la variable $x$ inicia su valor en cero  ($x=0$ en $t=0$) tomando luego valores positivos, entonces $\\phi_1=-\\pi/2$ y $\\phi_2=0$. Luego:   \n",
        "  \n",
        "      $x(t)=A\\cos{(\\frac{2\\pi}{T} t - \\pi/2)} = A\\sin{(\\frac{2\\pi}{T} t )}$\n",
        "\n",
        "\n",
        "---\n",
        "\n"
      ],
      "metadata": {
        "id": "vHUkqDo8uCjH"
      }
    },
    {
      "cell_type": "markdown",
      "source": [
        "**Función en Python que realiza la grafica de una oscilación armónica de una variable $x$  dada la amplitud ($A$), la frecuencia ($f$) y la fase inicial ($\\phi$) usando coseno y seno.**"
      ],
      "metadata": {
        "id": "HxllDx1J2Inn"
      }
    },
    {
      "cell_type": "code",
      "source": [
        "import numpy as np\n",
        "import matplotlib.pyplot as plt"
      ],
      "metadata": {
        "id": "G-mOKjxv7VZN"
      },
      "execution_count": 1,
      "outputs": []
    },
    {
      "cell_type": "code",
      "source": [
        "# Definimos la función de oscilación armónica usando coseno\n",
        "def oscilacion_armonica_cos(A, f, phi1):\n",
        "    t = np.linspace(0, 2, 1000)  # Tiempo de 0 a 2 segundos\n",
        "    omega = 2 * np.pi * f  # Frecuencia angular\n",
        "    x = A * np.cos(omega * t + phi1)  # Ecuación de oscilación\n",
        "\n",
        "    plt.figure(figsize=(8, 2))\n",
        "    plt.plot(t, x, label=f'A={A}, f={f}, ω={omega:.2f}, φ={phi1}')\n",
        "    plt.axhline(0, color='black', linewidth=0.5, linestyle='--')\n",
        "    plt.axvline(0, color='black', linewidth=0.5, linestyle='--')\n",
        "    plt.xlabel(\"Tiempo (s)\")\n",
        "    plt.ylabel(\"Posición (m)\")\n",
        "    plt.title(\"Oscilación Armónica Simple\")\n",
        "    plt.legend()\n",
        "    plt.grid()\n",
        "    plt.show()"
      ],
      "metadata": {
        "id": "bGeGP1rcN_bz"
      },
      "execution_count": 2,
      "outputs": []
    },
    {
      "cell_type": "code",
      "source": [
        "# Definimos la función de oscilación armónica usando seno\n",
        "def oscilacion_armonica_sin(A, f, phi2):\n",
        "    t = np.linspace(0, 2, 1000)  # Tiempo de 0 a 2 segundos\n",
        "    omega = 2 * np.pi * f  # Frecuencia angular\n",
        "    x = A * np.sin(omega * t + phi2)  # Ecuación de oscilación\n",
        "\n",
        "    plt.figure(figsize=(8, 2))\n",
        "    plt.plot(t, x, label=f'A={A}, f={f}, ω={omega:.2f}, φ={phi2}')\n",
        "    plt.axhline(0, color='black', linewidth=0.5, linestyle='--')\n",
        "    plt.axvline(0, color='black', linewidth=0.5, linestyle='--')\n",
        "    plt.xlabel(\"Tiempo (s)\")\n",
        "    plt.ylabel(\"Posición (m)\")\n",
        "    plt.title(\"Oscilación Armónica Simple\")\n",
        "    plt.legend()\n",
        "    plt.grid()\n",
        "    plt.show()"
      ],
      "metadata": {
        "id": "8Z3UM2gi9tzv"
      },
      "execution_count": 3,
      "outputs": []
    },
    {
      "cell_type": "markdown",
      "source": [
        "Ahora usemos las funciones creadas para analizar el comportamiento de las graficas cuando se varian cada uno de los parametros de la oscilación."
      ],
      "metadata": {
        "id": "sB4WMMZ8CIjA"
      }
    },
    {
      "cell_type": "markdown",
      "source": [
        "# **1. Comportamiento con la frecuencia**\n",
        "\n",
        "Dejamos fijos la amplitud y la fase inicial y variamos la frecuencia"
      ],
      "metadata": {
        "id": "Nq13VRApNZwL"
      }
    },
    {
      "cell_type": "code",
      "source": [
        "# media oscilacion cada segundo\n",
        "oscilacion_armonica_cos(A=1, f=1/2, phi1=0)"
      ],
      "metadata": {
        "id": "P6Xq3GpPh8Zl"
      },
      "execution_count": null,
      "outputs": []
    },
    {
      "cell_type": "code",
      "source": [
        "# una oscilacion cada segundo\n",
        "oscilacion_armonica_cos(A=1, f=1, phi1=0)"
      ],
      "metadata": {
        "id": "o75ebBIDhT0h"
      },
      "execution_count": null,
      "outputs": []
    },
    {
      "cell_type": "code",
      "source": [
        "# 2 oscilaciones cada segundo\n",
        "oscilacion_armonica_cos(A=1, f=2, phi1=0)"
      ],
      "metadata": {
        "id": "xmiu-VsjhV5h"
      },
      "execution_count": null,
      "outputs": []
    },
    {
      "cell_type": "code",
      "source": [
        "# 3 oscilaciones cada segundo\n",
        "oscilacion_armonica_cos(A=1, f=3, phi1=0)"
      ],
      "metadata": {
        "id": "8fJRji4lhX9K"
      },
      "execution_count": null,
      "outputs": []
    },
    {
      "cell_type": "code",
      "source": [
        "# 5 oscilaciones cada segundo\n",
        "oscilacion_armonica_cos(A=1, f=5, phi1=0)"
      ],
      "metadata": {
        "id": "ky-8cJOhhZPZ"
      },
      "execution_count": null,
      "outputs": []
    },
    {
      "cell_type": "code",
      "source": [
        "# 10 oscilaciones cada segundo\n",
        "oscilacion_armonica_cos(A=1, f=10, phi1=0)"
      ],
      "metadata": {
        "id": "Y6Kcx9I0haZy"
      },
      "execution_count": null,
      "outputs": []
    },
    {
      "cell_type": "code",
      "source": [
        "# 20 oscilaciones cada segundo\n",
        "oscilacion_armonica_cos(A=1, f=20, phi1=0)"
      ],
      "metadata": {
        "id": "sLzeukI2hb4Q"
      },
      "execution_count": null,
      "outputs": []
    },
    {
      "cell_type": "markdown",
      "source": [
        "# Analisis:\n",
        "\n",
        "* Vemos que a medida que aumenta la frecuencia, las oscilaciones son más rápidas.\n",
        "* Para determinar la frecuencia a partir de la grafica, se cuentan cuantas oscilaciones se realizan en un segundo."
      ],
      "metadata": {
        "id": "5H1jJWlETQFR"
      }
    },
    {
      "cell_type": "markdown",
      "source": [
        "☝ **Mi turno 1**"
      ],
      "metadata": {
        "id": "EjMZBzdZW3B_"
      }
    },
    {
      "cell_type": "code",
      "source": [
        "# @title **Determina cuál es la frecuencia a partir de la siguiente gráfica** (Ensaya sin ver el codigo)\n",
        "def oscilacion_armonica_cos2(A, f, phi1):\n",
        "    t = np.linspace(0, 2, 1000)  # Tiempo de 0 a 2 segundos\n",
        "    omega = 2 * np.pi * f  # Frecuencia angular\n",
        "    x = A * np.cos(omega * t + phi1)  # Ecuación de oscilación\n",
        "\n",
        "    plt.figure(figsize=(8, 2))\n",
        "    plt.plot(t, x)\n",
        "    plt.axhline(0, color='black', linewidth=0.5, linestyle='--')\n",
        "    plt.axvline(0, color='black', linewidth=0.5, linestyle='--')\n",
        "    plt.xlabel(\"Tiempo (s)\")\n",
        "    plt.ylabel(\"Posición (m)\")\n",
        "    plt.title(\"Oscilación Armónica Simple\")\n",
        "    plt.legend()\n",
        "    plt.grid()\n",
        "    plt.show()\n",
        "oscilacion_armonica_cos2(A=1, f=8, phi1=0)"
      ],
      "metadata": {
        "colab": {
          "base_uri": "https://localhost:8080/",
          "height": 312
        },
        "id": "fy9-gmowUlsI",
        "outputId": "9bf7cd0f-e8cd-4cae-bd3b-df4e9491207a",
        "cellView": "form"
      },
      "execution_count": null,
      "outputs": [
        {
          "output_type": "stream",
          "name": "stderr",
          "text": [
            "<ipython-input-11-c55c3acf0696>:14: UserWarning: No artists with labels found to put in legend.  Note that artists whose label start with an underscore are ignored when legend() is called with no argument.\n",
            "  plt.legend()\n"
          ]
        },
        {
          "output_type": "display_data",
          "data": {
            "text/plain": [
              "<Figure size 800x200 with 1 Axes>"
            ],
            "image/png": "[encoded data removed]"
          },
          "metadata": {}
        }
      ]
    },
    {
      "cell_type": "markdown",
      "source": [
        "Escribe tu respuesta aquí:\n",
        "\n",
        "$f=   $"
      ],
      "metadata": {
        "id": "hB0h-9RTYBtm"
      }
    },
    {
      "cell_type": "markdown",
      "source": [
        "☝ **Mi turno 2**"
      ],
      "metadata": {
        "id": "YadjuN4sbS7O"
      }
    },
    {
      "cell_type": "code",
      "source": [
        "# @title **Determina cuál es la frecuencia a partir de la siguiente gráfica** (Ensaya sin ver el codigo)\n",
        "oscilacion_armonica_cos2(A=1, f=3/4, phi1=0)"
      ],
      "metadata": {
        "colab": {
          "base_uri": "https://localhost:8080/",
          "height": 312
        },
        "id": "gKdkaxkwbX3r",
        "outputId": "38fc8665-93f9-4bf5-c0e3-473d0cb1b65a",
        "cellView": "form"
      },
      "execution_count": null,
      "outputs": [
        {
          "output_type": "stream",
          "name": "stderr",
          "text": [
            "<ipython-input-11-c55c3acf0696>:14: UserWarning: No artists with labels found to put in legend.  Note that artists whose label start with an underscore are ignored when legend() is called with no argument.\n",
            "  plt.legend()\n"
          ]
        },
        {
          "output_type": "display_data",
          "data": {
            "text/plain": [
              "<Figure size 800x200 with 1 Axes>"
            ],
            "image/png": "[encoded data removed]"
          },
          "metadata": {}
        }
      ]
    },
    {
      "cell_type": "markdown",
      "source": [
        "Escribe tu respuesta aquí:\n",
        "\n",
        "$f=   $"
      ],
      "metadata": {
        "id": "3K0SW1U4bgGk"
      }
    },
    {
      "cell_type": "markdown",
      "source": [
        "# **2. Comportamiento con la fase inicial**\n",
        "\n",
        "Dejamos fijos la amplitud y la frecuencia y variamos la fase inicial"
      ],
      "metadata": {
        "id": "iHCb3AfhcVO7"
      }
    },
    {
      "cell_type": "code",
      "source": [
        "# sin corrimiento (phi=0)\n",
        "oscilacion_armonica_cos(A=1, f=0.5, phi1=0)"
      ],
      "metadata": {
        "id": "YS3NNILOjLBP"
      },
      "execution_count": null,
      "outputs": []
    },
    {
      "cell_type": "markdown",
      "source": [
        "Observa que:\n",
        "* realiza una oscilacion completa en 2 segundos ($T=2$ : su periodo), ya que la frecuencia es $f=0.5$.\n",
        "\n",
        "* cada $t=T/4 =0.5$ segundos corresponde a un angulo de barrido de $\\phi=\\pi/2$.\n",
        "\n",
        "* cada $t=T =1.0$ segundo corresponde a un angulo de barrido de $\\phi=\\pi/2$.\n",
        "     "
      ],
      "metadata": {
        "id": "jSOWH1icm6pP"
      }
    },
    {
      "cell_type": "code",
      "source": [
        "# corrimiento hacia la derecha (-pi/2)\n",
        "oscilacion_armonica_cos(A=1, f=0.5, phi1=-np.pi/2)"
      ],
      "metadata": {
        "id": "kw5WmE-9jNzw"
      },
      "execution_count": null,
      "outputs": []
    },
    {
      "cell_type": "markdown",
      "source": [
        "Observa que:\n",
        "* La grafica está corrida hacia la derecha $T/4=0.5$."
      ],
      "metadata": {
        "id": "ziood-vPolZP"
      }
    },
    {
      "cell_type": "code",
      "source": [
        "# corrimiento hacia la izquierda (+pi/2)\n",
        "oscilacion_armonica_cos(A=1, f=0.5, phi1=np.pi/2)\n"
      ],
      "metadata": {
        "id": "-CggdP-PeHnC"
      },
      "execution_count": null,
      "outputs": []
    },
    {
      "cell_type": "markdown",
      "source": [
        "Observa que:\n",
        "\n",
        "* La grafica está corrida hacia la izquierda $T/4=0.5$.\n",
        "* Es lo mismo que estar corrida hacia la derecha $(3/4)T=1.5$. Corresponde a un angulo de $3\\pi/2$.\n",
        "* Si colocamos como fase inicial $\\phi=3\\pi/2$ nos debe dar la misma grafica. Observemos a continuación."
      ],
      "metadata": {
        "id": "O0lhOWf2prFV"
      }
    },
    {
      "cell_type": "code",
      "source": [
        "# corrimiento hacia la izquierda (-(3/4)(2pi) =- 3pi/2)\n",
        "oscilacion_armonica_cos(A=1, f=0.5, phi1=-3*np.pi/2)"
      ],
      "metadata": {
        "id": "QyBKveL6rN9H"
      },
      "execution_count": null,
      "outputs": []
    },
    {
      "cell_type": "code",
      "source": [
        "# corrimiento hacia la derecha (pi)\n",
        "oscilacion_armonica_cos(A=1, f=1, phi1=-np.pi)"
      ],
      "metadata": {
        "id": "FDb6MF4cjogn"
      },
      "execution_count": null,
      "outputs": []
    },
    {
      "cell_type": "markdown",
      "source": [
        "Observa que:\n",
        "\n",
        "* La grafica está corrida hacia la derecha $T/2=0.5$."
      ],
      "metadata": {
        "id": "NeWkL6v-qIvu"
      }
    },
    {
      "cell_type": "code",
      "source": [
        "# corrimiento hacia la izquierda (pi)\n",
        "oscilacion_armonica_cos(A=1, f=1, phi1=np.pi)"
      ],
      "metadata": {
        "id": "sv2IABXWvKuD"
      },
      "execution_count": null,
      "outputs": []
    },
    {
      "cell_type": "markdown",
      "source": [
        "# **3. ¿Cuándo usar coseno o seno para describir la oscilación armónica?**"
      ],
      "metadata": {
        "id": "Gau0_kc_9K6d"
      }
    },
    {
      "cell_type": "markdown",
      "source": [
        "**Ej 1:** Grafiquemos la oscilación de la variavle $x$ con las siguientes condiciones:\n",
        "\n",
        " * $x$ comienza con un valor maximo de $10$m ($x=A=10$m).\n",
        " * realiza una oscilación completa en 2 segundos.   "
      ],
      "metadata": {
        "id": "MQmquzO8vUfL"
      }
    },
    {
      "cell_type": "code",
      "source": [
        " #@title **Grafica con coseno**\n",
        " #En este caso:\n",
        " A = 10\n",
        " T=2\n",
        " f = 1/T\n",
        " phi1 = 0\n",
        "# graficamos\n",
        " oscilacion_armonica_cos(A, f, phi1)"
      ],
      "metadata": {
        "id": "TbicNug0JFeK"
      },
      "execution_count": null,
      "outputs": []
    },
    {
      "cell_type": "code",
      "source": [
        " #@title **Grafica con seno**\n",
        " #En este caso:\n",
        " A = 10\n",
        " T=2\n",
        " f = 1/T\n",
        " phi2 = phi1+np.pi/2\n",
        "# graficamos\n",
        " oscilacion_armonica_sin(A, f, phi2)"
      ],
      "metadata": {
        "id": "yWZ27Hs0_4kt"
      },
      "execution_count": null,
      "outputs": []
    },
    {
      "cell_type": "markdown",
      "source": [
        "Analisis: Se observa que las dos graficas son iguales. Es decir se puede usar seno o coseno con una adecuada fase inicial."
      ],
      "metadata": {
        "id": "IXarlRGQFw3y"
      }
    },
    {
      "cell_type": "markdown",
      "source": [
        "**Ej 2:** Grafiquemos la oscilación de la variavle $x$ con las siguientes condiciones:\n",
        "\n",
        " * $x$ oscila con una amplitud de $10$m ($A=10$m).\n",
        "  * realiza una oscilación completa en 2 segundos.\n",
        "  * $x$ comienza con un valor de cero aumentando con valores positivos."
      ],
      "metadata": {
        "id": "v61FsOkhM9z8"
      }
    },
    {
      "cell_type": "code",
      "source": [
        " #@title **Grafica con coseno**\n",
        " #En este caso:\n",
        " A = 10\n",
        " T=2\n",
        " f = 1/T\n",
        " phi1 = -np.pi/2\n",
        "# graficamos\n",
        " oscilacion_armonica_cos(A, f, phi1)"
      ],
      "metadata": {
        "id": "JatCOiL3BAym"
      },
      "execution_count": null,
      "outputs": []
    },
    {
      "cell_type": "code",
      "source": [
        " #@title **Grafica con seno**\n",
        " #En este caso:\n",
        " A = 10\n",
        " T=2\n",
        " f = 1/T\n",
        " phi2 = phi1+np.pi/2\n",
        "# graficamos\n",
        " oscilacion_armonica_sin(A, f, phi2)"
      ],
      "metadata": {
        "id": "cp0bmrUlBo9O"
      },
      "execution_count": null,
      "outputs": []
    },
    {
      "cell_type": "markdown",
      "source": [
        "Efectivamente se observa que:\n",
        "\n",
        " * las dos graficas son similares a pesar que una es con coseno y la otra es con seno. La diferencia está en la fase inicial.\n",
        " * Para describir una oscilación armónica se puede usar indistintamente la función coseno o la función seno. Cada una debe tener una fase inicial adecuada."
      ],
      "metadata": {
        "id": "PGeRhYhUBUR9"
      }
    },
    {
      "cell_type": "markdown",
      "source": [
        "☝ **Mi turno 3**"
      ],
      "metadata": {
        "id": "ABAyvHF2Dkge"
      }
    },
    {
      "cell_type": "markdown",
      "source": [
        "Grafique la oscilación de la variavle  $x$  con las siguientes condiciones:\n",
        "\n",
        "* $x$  oscila con una amplitud de  $5$ m.\n",
        "* realiza una oscilación completa en 0.5 segundos.\n",
        "* $x$  comienza con un valor de cero tomando luego valores negativos."
      ],
      "metadata": {
        "id": "fotCxgrRDw3o"
      }
    },
    {
      "cell_type": "code",
      "source": [
        " #@title **Grafica con coseno**\n",
        " #Completa el codigo\n",
        " A =\n",
        " T=\n",
        " f =\n",
        " phi1 =\n",
        "# graficamos\n",
        " oscilacion_armonica_cos()"
      ],
      "metadata": {
        "id": "IzV47v3cEqTH"
      },
      "execution_count": null,
      "outputs": []
    },
    {
      "cell_type": "code",
      "source": [
        " #@title **Grafica con seno**\n",
        " #Completa el codigo\n",
        " A =\n",
        " T=\n",
        " f =\n",
        " phi2 =\n",
        "# graficamos\n",
        " oscilacion_armonica_sin()"
      ],
      "metadata": {
        "id": "p9WYXXijE5c2"
      },
      "execution_count": null,
      "outputs": []
    },
    {
      "cell_type": "code",
      "execution_count": null,
      "metadata": {
        "id": "V0ihX4nCMJZi"
      },
      "outputs": [],
      "source": [
        "import numpy as np\n",
        "import matplotlib.pyplot as plt\n",
        "import ipywidgets as widgets\n",
        "from IPython.display import display\n",
        "#@title **Diviertete y aprende:** Ahora te dejo un codigo que genera una interfaz interactiva donde puedes controlar tales parametros y ver su efecto en la gráfica de la oscilación.\n",
        "# Definimos la función de oscilación armónica usando coseno\n",
        "def oscilacion_armonica_cos2(A, f, phi):\n",
        "    t = np.linspace(0, 2, 1000)  # Tiempo de 0 a 2 segundos\n",
        "    omega = 2 * np.pi * f  # Frecuencia angular\n",
        "    phi_rad = phi*np.pi/2 # el valor introducido se toma como multipli de pi/4.\n",
        "    x = A * np.cos(omega * t + phi_rad)  # Ecuación de oscilación\n",
        "    #grafica\n",
        "    plt.figure(figsize=(8, 2))\n",
        "    #plt.plot(t, x, label=f'A={A}, f={f}, ω={omega:.2f}, φ={phi}')\n",
        "    plt.plot(t, x)\n",
        "    plt.axhline(0, color='black', linewidth=0.5, linestyle='--')\n",
        "    plt.axvline(0, color='black', linewidth=0.5, linestyle='--')\n",
        "    plt.xlabel(\"Tiempo (s)\")\n",
        "    plt.ylabel(\"Posición (m)\")\n",
        "    plt.title(\"Oscilación Armónica Simple\")\n",
        "    plt.legend()\n",
        "    plt.grid()\n",
        "    plt.show()\n",
        "# Explicación de los parámetros\n",
        "print(\"\"\"\n",
        "Parámetros de la oscilación armónica:\n",
        "- Amplitud (A): Indica la máxima elongación desde la posición de equilibrio.\n",
        "- Frecuencia (f): Número de oscilaciones por segundo (Hz).\n",
        "- Fase inicial (φ): Define la posición inicial de la oscilación en el tiempo t=0.\n",
        "- El valor colocado en la fase se multiplica por pi/2. Ej: un valor de 1 indica que la fase inicial es pi/2.\n",
        "\"\"\")\n",
        "# Crear controles interactivos\n",
        "A_slider = widgets.FloatSlider(value=1, min=0.1, max=5, step=0.1, description=\"A\")\n",
        "f_slider = widgets.FloatSlider(value=1, min=0.1, max=5, step=0.1, description=\"f\")\n",
        "phi_slider = widgets.FloatSlider(value=0, min=-8, max=8, step=1, description=\"φ(x pi/2)\")\n",
        "\n",
        "# Interactividad\n",
        "twidgets = widgets.interactive(oscilacion_armonica_cos2, A=A_slider, f=f_slider, phi=phi_slider)\n",
        "display(twidgets)"
      ]
    },
    {
      "cell_type": "markdown",
      "source": [
        "**FIN**"
      ],
      "metadata": {
        "id": "2k4h5UK6Atq4"
      }
    }
  ]
}